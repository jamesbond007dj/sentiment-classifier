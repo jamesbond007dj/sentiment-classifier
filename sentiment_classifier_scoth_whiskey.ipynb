{
 "cells": [
  {
   "cell_type": "code",
   "execution_count": 56,
   "metadata": {},
   "outputs": [],
   "source": [
    "import pandas as pd"
   ]
  },
  {
   "cell_type": "code",
   "execution_count": 57,
   "metadata": {},
   "outputs": [],
   "source": [
    "scotch_df = pd.read_csv('./scotch_review.csv')"
   ]
  },
  {
   "cell_type": "code",
   "execution_count": 58,
   "metadata": {},
   "outputs": [],
   "source": [
    "import pandas as pd\n",
    "import numpy as np\n",
    "import tensorflow as tf\n",
    "from tensorflow import keras\n",
    "import tensorflow.keras.preprocessing.text as tfkpt\n",
    "from tensorflow.keras.preprocessing.text import Tokenizer\n",
    "import csv"
   ]
  },
  {
   "cell_type": "markdown",
   "metadata": {},
   "source": [
    "### Above I installed necessary libaries, then imported necessary modules and also define scotch_df as review csv file of scotchs."
   ]
  },
  {
   "cell_type": "markdown",
   "metadata": {},
   "source": [
    "### Below you can see data shape, first five rows of the data set, colounms, description and info"
   ]
  },
  {
   "cell_type": "code",
   "execution_count": 59,
   "metadata": {},
   "outputs": [
    {
     "name": "stdout",
     "output_type": "stream",
     "text": [
      "Data Shape: (2247, 7)\n"
     ]
    }
   ],
   "source": [
    "print(f\"Data Shape: {scotch_df.shape}\")"
   ]
  },
  {
   "cell_type": "code",
   "execution_count": 60,
   "metadata": {},
   "outputs": [
    {
     "name": "stdout",
     "output_type": "stream",
     "text": [
      "Index(['Unnamed: 0', 'name', 'category', 'review.point', 'price', 'currency',\n",
      "       'description'],\n",
      "      dtype='object')\n"
     ]
    }
   ],
   "source": [
    "print(scotch_df.columns)"
   ]
  },
  {
   "cell_type": "code",
   "execution_count": 61,
   "metadata": {},
   "outputs": [
    {
     "data": {
      "text/html": [
       "<div>\n",
       "<style scoped>\n",
       "    .dataframe tbody tr th:only-of-type {\n",
       "        vertical-align: middle;\n",
       "    }\n",
       "\n",
       "    .dataframe tbody tr th {\n",
       "        vertical-align: top;\n",
       "    }\n",
       "\n",
       "    .dataframe thead th {\n",
       "        text-align: right;\n",
       "    }\n",
       "</style>\n",
       "<table border=\"1\" class=\"dataframe\">\n",
       "  <thead>\n",
       "    <tr style=\"text-align: right;\">\n",
       "      <th></th>\n",
       "      <th>Unnamed: 0</th>\n",
       "      <th>name</th>\n",
       "      <th>category</th>\n",
       "      <th>review.point</th>\n",
       "      <th>price</th>\n",
       "      <th>currency</th>\n",
       "      <th>description</th>\n",
       "    </tr>\n",
       "  </thead>\n",
       "  <tbody>\n",
       "    <tr>\n",
       "      <th>0</th>\n",
       "      <td>1</td>\n",
       "      <td>Johnnie Walker Blue Label, 40%</td>\n",
       "      <td>Blended Scotch Whisky</td>\n",
       "      <td>97</td>\n",
       "      <td>225</td>\n",
       "      <td>$</td>\n",
       "      <td>Magnificently powerful and intense. Caramels, ...</td>\n",
       "    </tr>\n",
       "    <tr>\n",
       "      <th>1</th>\n",
       "      <td>2</td>\n",
       "      <td>Black Bowmore, 1964 vintage, 42 year old, 40.5%</td>\n",
       "      <td>Single Malt Scotch</td>\n",
       "      <td>97</td>\n",
       "      <td>4500.00</td>\n",
       "      <td>$</td>\n",
       "      <td>What impresses me most is how this whisky evol...</td>\n",
       "    </tr>\n",
       "    <tr>\n",
       "      <th>2</th>\n",
       "      <td>3</td>\n",
       "      <td>Bowmore 46 year old (distilled 1964), 42.9%</td>\n",
       "      <td>Single Malt Scotch</td>\n",
       "      <td>97</td>\n",
       "      <td>13500.00</td>\n",
       "      <td>$</td>\n",
       "      <td>There have been some legendary Bowmores from t...</td>\n",
       "    </tr>\n",
       "    <tr>\n",
       "      <th>3</th>\n",
       "      <td>4</td>\n",
       "      <td>Compass Box The General, 53.4%</td>\n",
       "      <td>Blended Malt Scotch Whisky</td>\n",
       "      <td>96</td>\n",
       "      <td>325</td>\n",
       "      <td>$</td>\n",
       "      <td>With a name inspired by a 1926 Buster Keaton m...</td>\n",
       "    </tr>\n",
       "    <tr>\n",
       "      <th>4</th>\n",
       "      <td>5</td>\n",
       "      <td>Chivas Regal Ultis, 40%</td>\n",
       "      <td>Blended Malt Scotch Whisky</td>\n",
       "      <td>96</td>\n",
       "      <td>160</td>\n",
       "      <td>$</td>\n",
       "      <td>Captivating, enticing, and wonderfully charmin...</td>\n",
       "    </tr>\n",
       "  </tbody>\n",
       "</table>\n",
       "</div>"
      ],
      "text/plain": [
       "   Unnamed: 0                                             name  \\\n",
       "0           1                   Johnnie Walker Blue Label, 40%   \n",
       "1           2  Black Bowmore, 1964 vintage, 42 year old, 40.5%   \n",
       "2           3      Bowmore 46 year old (distilled 1964), 42.9%   \n",
       "3           4                   Compass Box The General, 53.4%   \n",
       "4           5                          Chivas Regal Ultis, 40%   \n",
       "\n",
       "                     category  review.point     price currency  \\\n",
       "0       Blended Scotch Whisky            97       225        $   \n",
       "1          Single Malt Scotch            97   4500.00        $   \n",
       "2          Single Malt Scotch            97  13500.00        $   \n",
       "3  Blended Malt Scotch Whisky            96       325        $   \n",
       "4  Blended Malt Scotch Whisky            96       160        $   \n",
       "\n",
       "                                         description  \n",
       "0  Magnificently powerful and intense. Caramels, ...  \n",
       "1  What impresses me most is how this whisky evol...  \n",
       "2  There have been some legendary Bowmores from t...  \n",
       "3  With a name inspired by a 1926 Buster Keaton m...  \n",
       "4  Captivating, enticing, and wonderfully charmin...  "
      ]
     },
     "execution_count": 61,
     "metadata": {},
     "output_type": "execute_result"
    }
   ],
   "source": [
    "scotch_df.head(5)"
   ]
  },
  {
   "cell_type": "code",
   "execution_count": 62,
   "metadata": {},
   "outputs": [
    {
     "name": "stdout",
     "output_type": "stream",
     "text": [
      "<bound method NDFrame.describe of       Unnamed: 0                                               name  \\\n",
      "0              1                     Johnnie Walker Blue Label, 40%   \n",
      "1              2    Black Bowmore, 1964 vintage, 42 year old, 40.5%   \n",
      "2              3        Bowmore 46 year old (distilled 1964), 42.9%   \n",
      "3              4                     Compass Box The General, 53.4%   \n",
      "4              5                            Chivas Regal Ultis, 40%   \n",
      "...          ...                                                ...   \n",
      "2242        2243  Duncan Taylor (distilled at Cameronbridge), Ca...   \n",
      "2243        2244  Distillery Select 'Craiglodge' (distilled at L...   \n",
      "2244        2245         Edradour Barolo Finish, 11 year old, 57.1%   \n",
      "2245        2246  Highland Park, Cask #7380, 1981 vintage, 25 ye...   \n",
      "2246        2247  Distillery Select 'Inchmoan' (distilled at Loc...   \n",
      "\n",
      "                        category  review.point     price currency  \\\n",
      "0          Blended Scotch Whisky            97       225        $   \n",
      "1             Single Malt Scotch            97   4500.00        $   \n",
      "2             Single Malt Scotch            97  13500.00        $   \n",
      "3     Blended Malt Scotch Whisky            96       325        $   \n",
      "4     Blended Malt Scotch Whisky            96       160        $   \n",
      "...                          ...           ...       ...      ...   \n",
      "2242         Grain Scotch Whisky            72    125.00        $   \n",
      "2243          Single Malt Scotch            71     60.00        $   \n",
      "2244          Single Malt Scotch            70     80.00        $   \n",
      "2245          Single Malt Scotch            70    225.00        $   \n",
      "2246          Single Malt Scotch            63     60.00        $   \n",
      "\n",
      "                                            description  \n",
      "0     Magnificently powerful and intense. Caramels, ...  \n",
      "1     What impresses me most is how this whisky evol...  \n",
      "2     There have been some legendary Bowmores from t...  \n",
      "3     With a name inspired by a 1926 Buster Keaton m...  \n",
      "4     Captivating, enticing, and wonderfully charmin...  \n",
      "...                                                 ...  \n",
      "2242  Its best attributes are vanilla, toasted cocon...  \n",
      "2243  Aged in a sherry cask, which adds sweet notes ...  \n",
      "2244  Earthy, fleshy notes with brooding grape notes...  \n",
      "2245  The sherry is very dominant and cloying, which...  \n",
      "2246  Fiery peat kiln smoke, tar, and ripe barley on...  \n",
      "\n",
      "[2247 rows x 7 columns]>\n"
     ]
    }
   ],
   "source": [
    "print(scotch_df.describe)"
   ]
  },
  {
   "cell_type": "code",
   "execution_count": 63,
   "metadata": {},
   "outputs": [
    {
     "name": "stdout",
     "output_type": "stream",
     "text": [
      "<bound method DataFrame.info of       Unnamed: 0                                               name  \\\n",
      "0              1                     Johnnie Walker Blue Label, 40%   \n",
      "1              2    Black Bowmore, 1964 vintage, 42 year old, 40.5%   \n",
      "2              3        Bowmore 46 year old (distilled 1964), 42.9%   \n",
      "3              4                     Compass Box The General, 53.4%   \n",
      "4              5                            Chivas Regal Ultis, 40%   \n",
      "...          ...                                                ...   \n",
      "2242        2243  Duncan Taylor (distilled at Cameronbridge), Ca...   \n",
      "2243        2244  Distillery Select 'Craiglodge' (distilled at L...   \n",
      "2244        2245         Edradour Barolo Finish, 11 year old, 57.1%   \n",
      "2245        2246  Highland Park, Cask #7380, 1981 vintage, 25 ye...   \n",
      "2246        2247  Distillery Select 'Inchmoan' (distilled at Loc...   \n",
      "\n",
      "                        category  review.point     price currency  \\\n",
      "0          Blended Scotch Whisky            97       225        $   \n",
      "1             Single Malt Scotch            97   4500.00        $   \n",
      "2             Single Malt Scotch            97  13500.00        $   \n",
      "3     Blended Malt Scotch Whisky            96       325        $   \n",
      "4     Blended Malt Scotch Whisky            96       160        $   \n",
      "...                          ...           ...       ...      ...   \n",
      "2242         Grain Scotch Whisky            72    125.00        $   \n",
      "2243          Single Malt Scotch            71     60.00        $   \n",
      "2244          Single Malt Scotch            70     80.00        $   \n",
      "2245          Single Malt Scotch            70    225.00        $   \n",
      "2246          Single Malt Scotch            63     60.00        $   \n",
      "\n",
      "                                            description  \n",
      "0     Magnificently powerful and intense. Caramels, ...  \n",
      "1     What impresses me most is how this whisky evol...  \n",
      "2     There have been some legendary Bowmores from t...  \n",
      "3     With a name inspired by a 1926 Buster Keaton m...  \n",
      "4     Captivating, enticing, and wonderfully charmin...  \n",
      "...                                                 ...  \n",
      "2242  Its best attributes are vanilla, toasted cocon...  \n",
      "2243  Aged in a sherry cask, which adds sweet notes ...  \n",
      "2244  Earthy, fleshy notes with brooding grape notes...  \n",
      "2245  The sherry is very dominant and cloying, which...  \n",
      "2246  Fiery peat kiln smoke, tar, and ripe barley on...  \n",
      "\n",
      "[2247 rows x 7 columns]>\n"
     ]
    }
   ],
   "source": [
    "print(scotch_df.info)"
   ]
  },
  {
   "cell_type": "markdown",
   "metadata": {},
   "source": [
    "### Below I create the rank of scotch by description according review points and it is sorted by review points"
   ]
  },
  {
   "cell_type": "code",
   "execution_count": 64,
   "metadata": {},
   "outputs": [],
   "source": [
    "ranked_scotch = scotch_df[['description', 'review.point']].sort_values(by='review.point')"
   ]
  },
  {
   "cell_type": "code",
   "execution_count": 65,
   "metadata": {},
   "outputs": [
    {
     "data": {
      "text/html": [
       "<div>\n",
       "<style scoped>\n",
       "    .dataframe tbody tr th:only-of-type {\n",
       "        vertical-align: middle;\n",
       "    }\n",
       "\n",
       "    .dataframe tbody tr th {\n",
       "        vertical-align: top;\n",
       "    }\n",
       "\n",
       "    .dataframe thead th {\n",
       "        text-align: right;\n",
       "    }\n",
       "</style>\n",
       "<table border=\"1\" class=\"dataframe\">\n",
       "  <thead>\n",
       "    <tr style=\"text-align: right;\">\n",
       "      <th></th>\n",
       "      <th>description</th>\n",
       "      <th>review.point</th>\n",
       "    </tr>\n",
       "  </thead>\n",
       "  <tbody>\n",
       "    <tr>\n",
       "      <th>2246</th>\n",
       "      <td>Fiery peat kiln smoke, tar, and ripe barley on...</td>\n",
       "      <td>63</td>\n",
       "    </tr>\n",
       "    <tr>\n",
       "      <th>2245</th>\n",
       "      <td>The sherry is very dominant and cloying, which...</td>\n",
       "      <td>70</td>\n",
       "    </tr>\n",
       "    <tr>\n",
       "      <th>2244</th>\n",
       "      <td>Earthy, fleshy notes with brooding grape notes...</td>\n",
       "      <td>70</td>\n",
       "    </tr>\n",
       "    <tr>\n",
       "      <th>2243</th>\n",
       "      <td>Aged in a sherry cask, which adds sweet notes ...</td>\n",
       "      <td>71</td>\n",
       "    </tr>\n",
       "    <tr>\n",
       "      <th>2242</th>\n",
       "      <td>Its best attributes are vanilla, toasted cocon...</td>\n",
       "      <td>72</td>\n",
       "    </tr>\n",
       "    <tr>\n",
       "      <th>...</th>\n",
       "      <td>...</td>\n",
       "      <td>...</td>\n",
       "    </tr>\n",
       "    <tr>\n",
       "      <th>12</th>\n",
       "      <td>A remarkable beauty from the Angus town of Mon...</td>\n",
       "      <td>96</td>\n",
       "    </tr>\n",
       "    <tr>\n",
       "      <th>7</th>\n",
       "      <td>Definitely showing its age, but not in a bad w...</td>\n",
       "      <td>96</td>\n",
       "    </tr>\n",
       "    <tr>\n",
       "      <th>2</th>\n",
       "      <td>There have been some legendary Bowmores from t...</td>\n",
       "      <td>97</td>\n",
       "    </tr>\n",
       "    <tr>\n",
       "      <th>1</th>\n",
       "      <td>What impresses me most is how this whisky evol...</td>\n",
       "      <td>97</td>\n",
       "    </tr>\n",
       "    <tr>\n",
       "      <th>0</th>\n",
       "      <td>Magnificently powerful and intense. Caramels, ...</td>\n",
       "      <td>97</td>\n",
       "    </tr>\n",
       "  </tbody>\n",
       "</table>\n",
       "<p>2247 rows × 2 columns</p>\n",
       "</div>"
      ],
      "text/plain": [
       "                                            description  review.point\n",
       "2246  Fiery peat kiln smoke, tar, and ripe barley on...            63\n",
       "2245  The sherry is very dominant and cloying, which...            70\n",
       "2244  Earthy, fleshy notes with brooding grape notes...            70\n",
       "2243  Aged in a sherry cask, which adds sweet notes ...            71\n",
       "2242  Its best attributes are vanilla, toasted cocon...            72\n",
       "...                                                 ...           ...\n",
       "12    A remarkable beauty from the Angus town of Mon...            96\n",
       "7     Definitely showing its age, but not in a bad w...            96\n",
       "2     There have been some legendary Bowmores from t...            97\n",
       "1     What impresses me most is how this whisky evol...            97\n",
       "0     Magnificently powerful and intense. Caramels, ...            97\n",
       "\n",
       "[2247 rows x 2 columns]"
      ]
     },
     "execution_count": 65,
     "metadata": {},
     "output_type": "execute_result"
    }
   ],
   "source": [
    "ranked_scotch"
   ]
  },
  {
   "cell_type": "markdown",
   "metadata": {},
   "source": [
    "### Below I find avarage and mean values to have better understanding of reviews points and to be able to give sentiment to reviews"
   ]
  },
  {
   "cell_type": "code",
   "execution_count": 66,
   "metadata": {},
   "outputs": [
    {
     "data": {
      "text/plain": [
       "87.0"
      ]
     },
     "execution_count": 66,
     "metadata": {},
     "output_type": "execute_result"
    }
   ],
   "source": [
    "ranked_scotch['review.point'].median()"
   ]
  },
  {
   "cell_type": "markdown",
   "metadata": {},
   "source": [
    "### the most common review.point"
   ]
  },
  {
   "cell_type": "code",
   "execution_count": 67,
   "metadata": {},
   "outputs": [
    {
     "data": {
      "text/plain": [
       "0    87\n",
       "dtype: int64"
      ]
     },
     "execution_count": 67,
     "metadata": {},
     "output_type": "execute_result"
    }
   ],
   "source": [
    "ranked_scotch['review.point'].mode()"
   ]
  },
  {
   "cell_type": "code",
   "execution_count": 68,
   "metadata": {},
   "outputs": [
    {
     "data": {
      "text/plain": [
       "86.70004450378282"
      ]
     },
     "execution_count": 68,
     "metadata": {},
     "output_type": "execute_result"
    }
   ],
   "source": [
    "ranked_scotch['review.point'].mean()"
   ]
  },
  {
   "cell_type": "markdown",
   "metadata": {},
   "source": [
    "### Above median, mean and mode results, pretty much i understand where is pozitif , negative and nautural, however I would like to check regression to decide it more precisely.\n",
    "\n",
    "\n",
    "### Below I find the count of each value so I make new two columns to draw regression"
   ]
  },
  {
   "cell_type": "code",
   "execution_count": 69,
   "metadata": {},
   "outputs": [],
   "source": [
    "regression_scotch = ranked_scotch['review.point'].value_counts()\n",
    "\n"
   ]
  },
  {
   "cell_type": "markdown",
   "metadata": {},
   "source": [
    "### Below I create coloumns for regression_scotch"
   ]
  },
  {
   "cell_type": "code",
   "execution_count": 70,
   "metadata": {},
   "outputs": [
    {
     "data": {
      "text/html": [
       "<div>\n",
       "<style scoped>\n",
       "    .dataframe tbody tr th:only-of-type {\n",
       "        vertical-align: middle;\n",
       "    }\n",
       "\n",
       "    .dataframe tbody tr th {\n",
       "        vertical-align: top;\n",
       "    }\n",
       "\n",
       "    .dataframe thead th {\n",
       "        text-align: right;\n",
       "    }\n",
       "</style>\n",
       "<table border=\"1\" class=\"dataframe\">\n",
       "  <thead>\n",
       "    <tr style=\"text-align: right;\">\n",
       "      <th></th>\n",
       "      <th>review.point</th>\n",
       "      <th>description</th>\n",
       "    </tr>\n",
       "  </thead>\n",
       "  <tbody>\n",
       "    <tr>\n",
       "      <th>0</th>\n",
       "      <td>63</td>\n",
       "      <td>1</td>\n",
       "    </tr>\n",
       "    <tr>\n",
       "      <th>1</th>\n",
       "      <td>70</td>\n",
       "      <td>2</td>\n",
       "    </tr>\n",
       "    <tr>\n",
       "      <th>2</th>\n",
       "      <td>71</td>\n",
       "      <td>1</td>\n",
       "    </tr>\n",
       "    <tr>\n",
       "      <th>3</th>\n",
       "      <td>72</td>\n",
       "      <td>4</td>\n",
       "    </tr>\n",
       "    <tr>\n",
       "      <th>4</th>\n",
       "      <td>73</td>\n",
       "      <td>2</td>\n",
       "    </tr>\n",
       "    <tr>\n",
       "      <th>5</th>\n",
       "      <td>74</td>\n",
       "      <td>2</td>\n",
       "    </tr>\n",
       "    <tr>\n",
       "      <th>6</th>\n",
       "      <td>75</td>\n",
       "      <td>3</td>\n",
       "    </tr>\n",
       "    <tr>\n",
       "      <th>7</th>\n",
       "      <td>76</td>\n",
       "      <td>3</td>\n",
       "    </tr>\n",
       "    <tr>\n",
       "      <th>8</th>\n",
       "      <td>77</td>\n",
       "      <td>12</td>\n",
       "    </tr>\n",
       "    <tr>\n",
       "      <th>9</th>\n",
       "      <td>78</td>\n",
       "      <td>18</td>\n",
       "    </tr>\n",
       "    <tr>\n",
       "      <th>10</th>\n",
       "      <td>79</td>\n",
       "      <td>31</td>\n",
       "    </tr>\n",
       "    <tr>\n",
       "      <th>11</th>\n",
       "      <td>80</td>\n",
       "      <td>83</td>\n",
       "    </tr>\n",
       "    <tr>\n",
       "      <th>12</th>\n",
       "      <td>81</td>\n",
       "      <td>66</td>\n",
       "    </tr>\n",
       "    <tr>\n",
       "      <th>13</th>\n",
       "      <td>82</td>\n",
       "      <td>96</td>\n",
       "    </tr>\n",
       "    <tr>\n",
       "      <th>14</th>\n",
       "      <td>83</td>\n",
       "      <td>141</td>\n",
       "    </tr>\n",
       "    <tr>\n",
       "      <th>15</th>\n",
       "      <td>84</td>\n",
       "      <td>173</td>\n",
       "    </tr>\n",
       "    <tr>\n",
       "      <th>16</th>\n",
       "      <td>85</td>\n",
       "      <td>198</td>\n",
       "    </tr>\n",
       "    <tr>\n",
       "      <th>17</th>\n",
       "      <td>86</td>\n",
       "      <td>218</td>\n",
       "    </tr>\n",
       "    <tr>\n",
       "      <th>18</th>\n",
       "      <td>87</td>\n",
       "      <td>221</td>\n",
       "    </tr>\n",
       "    <tr>\n",
       "      <th>19</th>\n",
       "      <td>88</td>\n",
       "      <td>204</td>\n",
       "    </tr>\n",
       "    <tr>\n",
       "      <th>20</th>\n",
       "      <td>89</td>\n",
       "      <td>197</td>\n",
       "    </tr>\n",
       "    <tr>\n",
       "      <th>21</th>\n",
       "      <td>90</td>\n",
       "      <td>188</td>\n",
       "    </tr>\n",
       "    <tr>\n",
       "      <th>22</th>\n",
       "      <td>91</td>\n",
       "      <td>107</td>\n",
       "    </tr>\n",
       "    <tr>\n",
       "      <th>23</th>\n",
       "      <td>92</td>\n",
       "      <td>112</td>\n",
       "    </tr>\n",
       "    <tr>\n",
       "      <th>24</th>\n",
       "      <td>93</td>\n",
       "      <td>84</td>\n",
       "    </tr>\n",
       "    <tr>\n",
       "      <th>25</th>\n",
       "      <td>94</td>\n",
       "      <td>43</td>\n",
       "    </tr>\n",
       "    <tr>\n",
       "      <th>26</th>\n",
       "      <td>95</td>\n",
       "      <td>24</td>\n",
       "    </tr>\n",
       "    <tr>\n",
       "      <th>27</th>\n",
       "      <td>96</td>\n",
       "      <td>10</td>\n",
       "    </tr>\n",
       "    <tr>\n",
       "      <th>28</th>\n",
       "      <td>97</td>\n",
       "      <td>3</td>\n",
       "    </tr>\n",
       "  </tbody>\n",
       "</table>\n",
       "</div>"
      ],
      "text/plain": [
       "    review.point  description\n",
       "0             63            1\n",
       "1             70            2\n",
       "2             71            1\n",
       "3             72            4\n",
       "4             73            2\n",
       "5             74            2\n",
       "6             75            3\n",
       "7             76            3\n",
       "8             77           12\n",
       "9             78           18\n",
       "10            79           31\n",
       "11            80           83\n",
       "12            81           66\n",
       "13            82           96\n",
       "14            83          141\n",
       "15            84          173\n",
       "16            85          198\n",
       "17            86          218\n",
       "18            87          221\n",
       "19            88          204\n",
       "20            89          197\n",
       "21            90          188\n",
       "22            91          107\n",
       "23            92          112\n",
       "24            93           84\n",
       "25            94           43\n",
       "26            95           24\n",
       "27            96           10\n",
       "28            97            3"
      ]
     },
     "execution_count": 70,
     "metadata": {},
     "output_type": "execute_result"
    }
   ],
   "source": [
    "rs=ranked_scotch.groupby(['review.point'],as_index=False).count()\n",
    "rs"
   ]
  },
  {
   "cell_type": "code",
   "execution_count": 71,
   "metadata": {},
   "outputs": [],
   "source": [
    "rs = rs.rename(columns={'review.point': 'points', 'description': 'count'})"
   ]
  },
  {
   "cell_type": "code",
   "execution_count": 72,
   "metadata": {},
   "outputs": [
    {
     "data": {
      "text/html": [
       "<div>\n",
       "<style scoped>\n",
       "    .dataframe tbody tr th:only-of-type {\n",
       "        vertical-align: middle;\n",
       "    }\n",
       "\n",
       "    .dataframe tbody tr th {\n",
       "        vertical-align: top;\n",
       "    }\n",
       "\n",
       "    .dataframe thead th {\n",
       "        text-align: right;\n",
       "    }\n",
       "</style>\n",
       "<table border=\"1\" class=\"dataframe\">\n",
       "  <thead>\n",
       "    <tr style=\"text-align: right;\">\n",
       "      <th></th>\n",
       "      <th>points</th>\n",
       "      <th>count</th>\n",
       "    </tr>\n",
       "  </thead>\n",
       "  <tbody>\n",
       "    <tr>\n",
       "      <th>0</th>\n",
       "      <td>63</td>\n",
       "      <td>1</td>\n",
       "    </tr>\n",
       "    <tr>\n",
       "      <th>1</th>\n",
       "      <td>70</td>\n",
       "      <td>2</td>\n",
       "    </tr>\n",
       "    <tr>\n",
       "      <th>2</th>\n",
       "      <td>71</td>\n",
       "      <td>1</td>\n",
       "    </tr>\n",
       "    <tr>\n",
       "      <th>3</th>\n",
       "      <td>72</td>\n",
       "      <td>4</td>\n",
       "    </tr>\n",
       "    <tr>\n",
       "      <th>4</th>\n",
       "      <td>73</td>\n",
       "      <td>2</td>\n",
       "    </tr>\n",
       "    <tr>\n",
       "      <th>5</th>\n",
       "      <td>74</td>\n",
       "      <td>2</td>\n",
       "    </tr>\n",
       "    <tr>\n",
       "      <th>6</th>\n",
       "      <td>75</td>\n",
       "      <td>3</td>\n",
       "    </tr>\n",
       "    <tr>\n",
       "      <th>7</th>\n",
       "      <td>76</td>\n",
       "      <td>3</td>\n",
       "    </tr>\n",
       "    <tr>\n",
       "      <th>8</th>\n",
       "      <td>77</td>\n",
       "      <td>12</td>\n",
       "    </tr>\n",
       "    <tr>\n",
       "      <th>9</th>\n",
       "      <td>78</td>\n",
       "      <td>18</td>\n",
       "    </tr>\n",
       "    <tr>\n",
       "      <th>10</th>\n",
       "      <td>79</td>\n",
       "      <td>31</td>\n",
       "    </tr>\n",
       "    <tr>\n",
       "      <th>11</th>\n",
       "      <td>80</td>\n",
       "      <td>83</td>\n",
       "    </tr>\n",
       "    <tr>\n",
       "      <th>12</th>\n",
       "      <td>81</td>\n",
       "      <td>66</td>\n",
       "    </tr>\n",
       "    <tr>\n",
       "      <th>13</th>\n",
       "      <td>82</td>\n",
       "      <td>96</td>\n",
       "    </tr>\n",
       "    <tr>\n",
       "      <th>14</th>\n",
       "      <td>83</td>\n",
       "      <td>141</td>\n",
       "    </tr>\n",
       "    <tr>\n",
       "      <th>15</th>\n",
       "      <td>84</td>\n",
       "      <td>173</td>\n",
       "    </tr>\n",
       "    <tr>\n",
       "      <th>16</th>\n",
       "      <td>85</td>\n",
       "      <td>198</td>\n",
       "    </tr>\n",
       "    <tr>\n",
       "      <th>17</th>\n",
       "      <td>86</td>\n",
       "      <td>218</td>\n",
       "    </tr>\n",
       "    <tr>\n",
       "      <th>18</th>\n",
       "      <td>87</td>\n",
       "      <td>221</td>\n",
       "    </tr>\n",
       "    <tr>\n",
       "      <th>19</th>\n",
       "      <td>88</td>\n",
       "      <td>204</td>\n",
       "    </tr>\n",
       "    <tr>\n",
       "      <th>20</th>\n",
       "      <td>89</td>\n",
       "      <td>197</td>\n",
       "    </tr>\n",
       "    <tr>\n",
       "      <th>21</th>\n",
       "      <td>90</td>\n",
       "      <td>188</td>\n",
       "    </tr>\n",
       "    <tr>\n",
       "      <th>22</th>\n",
       "      <td>91</td>\n",
       "      <td>107</td>\n",
       "    </tr>\n",
       "    <tr>\n",
       "      <th>23</th>\n",
       "      <td>92</td>\n",
       "      <td>112</td>\n",
       "    </tr>\n",
       "    <tr>\n",
       "      <th>24</th>\n",
       "      <td>93</td>\n",
       "      <td>84</td>\n",
       "    </tr>\n",
       "    <tr>\n",
       "      <th>25</th>\n",
       "      <td>94</td>\n",
       "      <td>43</td>\n",
       "    </tr>\n",
       "    <tr>\n",
       "      <th>26</th>\n",
       "      <td>95</td>\n",
       "      <td>24</td>\n",
       "    </tr>\n",
       "    <tr>\n",
       "      <th>27</th>\n",
       "      <td>96</td>\n",
       "      <td>10</td>\n",
       "    </tr>\n",
       "    <tr>\n",
       "      <th>28</th>\n",
       "      <td>97</td>\n",
       "      <td>3</td>\n",
       "    </tr>\n",
       "  </tbody>\n",
       "</table>\n",
       "</div>"
      ],
      "text/plain": [
       "    points  count\n",
       "0       63      1\n",
       "1       70      2\n",
       "2       71      1\n",
       "3       72      4\n",
       "4       73      2\n",
       "5       74      2\n",
       "6       75      3\n",
       "7       76      3\n",
       "8       77     12\n",
       "9       78     18\n",
       "10      79     31\n",
       "11      80     83\n",
       "12      81     66\n",
       "13      82     96\n",
       "14      83    141\n",
       "15      84    173\n",
       "16      85    198\n",
       "17      86    218\n",
       "18      87    221\n",
       "19      88    204\n",
       "20      89    197\n",
       "21      90    188\n",
       "22      91    107\n",
       "23      92    112\n",
       "24      93     84\n",
       "25      94     43\n",
       "26      95     24\n",
       "27      96     10\n",
       "28      97      3"
      ]
     },
     "execution_count": 72,
     "metadata": {},
     "output_type": "execute_result"
    }
   ],
   "source": [
    "rs"
   ]
  },
  {
   "cell_type": "code",
   "execution_count": 73,
   "metadata": {},
   "outputs": [],
   "source": [
    "X = rs['points'].values\n",
    "y = rs['count'].values"
   ]
  },
  {
   "cell_type": "code",
   "execution_count": 74,
   "metadata": {},
   "outputs": [
    {
     "data": {
      "text/plain": [
       "array([63, 70, 71, 72, 73, 74, 75, 76, 77, 78, 79, 80, 81, 82, 83, 84, 85,\n",
       "       86, 87, 88, 89, 90, 91, 92, 93, 94, 95, 96, 97])"
      ]
     },
     "execution_count": 74,
     "metadata": {},
     "output_type": "execute_result"
    }
   ],
   "source": [
    "X"
   ]
  },
  {
   "cell_type": "code",
   "execution_count": 75,
   "metadata": {},
   "outputs": [
    {
     "data": {
      "text/plain": [
       "array([[63],\n",
       "       [70],\n",
       "       [71],\n",
       "       [72],\n",
       "       [73],\n",
       "       [74],\n",
       "       [75],\n",
       "       [76],\n",
       "       [77],\n",
       "       [78],\n",
       "       [79],\n",
       "       [80],\n",
       "       [81],\n",
       "       [82],\n",
       "       [83],\n",
       "       [84],\n",
       "       [85],\n",
       "       [86],\n",
       "       [87],\n",
       "       [88],\n",
       "       [89],\n",
       "       [90],\n",
       "       [91],\n",
       "       [92],\n",
       "       [93],\n",
       "       [94],\n",
       "       [95],\n",
       "       [96],\n",
       "       [97]])"
      ]
     },
     "execution_count": 75,
     "metadata": {},
     "output_type": "execute_result"
    }
   ],
   "source": [
    "X=X.reshape(-1,1)\n",
    "X"
   ]
  },
  {
   "cell_type": "code",
   "execution_count": 76,
   "metadata": {},
   "outputs": [],
   "source": [
    "import matplotlib.pyplot as plt\n",
    "%matplotlib inline\n",
    "from sklearn.linear_model import LinearRegression\n",
    "from sklearn.preprocessing import PolynomialFeatures\n",
    "from sklearn.model_selection import train_test_split"
   ]
  },
  {
   "cell_type": "code",
   "execution_count": 77,
   "metadata": {},
   "outputs": [
    {
     "name": "stdout",
     "output_type": "stream",
     "text": [
      "X_train shape (23, 1)\n",
      "y_train shape (23,)\n",
      "X_test shape (6, 1)\n",
      "y_test shape (6,)\n",
      "[141   3   2   1  24 197]\n"
     ]
    }
   ],
   "source": [
    "x_train, x_test, y_train, y_test = train_test_split(X,y,train_size=0.8,test_size=0.2,random_state=10)\n",
    "print(f\"X_train shape {x_train.shape}\")\n",
    "print(f\"y_train shape {y_train.shape}\")\n",
    "print(f\"X_test shape {x_test.shape}\")\n",
    "print(f\"y_test shape {y_test.shape}\")\n",
    "print(y_test)"
   ]
  },
  {
   "cell_type": "code",
   "execution_count": 78,
   "metadata": {},
   "outputs": [
    {
     "data": {
      "image/png": "[encoded data removed]",
      "text/plain": [
       "<Figure size 432x288 with 1 Axes>"
      ]
     },
     "metadata": {
      "needs_background": "light"
     },
     "output_type": "display_data"
    }
   ],
   "source": [
    "%matplotlib inline\n",
    "plt.scatter(x_train,y_train,color='blue')\n",
    "plt.xlabel('Avg. Area Income in $' )\n",
    "plt.ylabel('Price in $')\n",
    "plt.title('Training data')\n",
    "plt.show()"
   ]
  },
  {
   "cell_type": "code",
   "execution_count": 79,
   "metadata": {},
   "outputs": [
    {
     "name": "stdout",
     "output_type": "stream",
     "text": [
      "Train accuracy 16.85 %\n",
      "Test accuracy 21.63 %\n"
     ]
    }
   ],
   "source": [
    "lm = LinearRegression()\n",
    "lm.fit(x_train,y_train)\n",
    "y_predict = lm.predict(x_test)\n",
    "print(f\"Train accuracy {round(lm.score(x_train,y_train)*100,2)} %\")\n",
    "print(f\"Test accuracy {round(lm.score(x_test,y_test)*100,2)} %\")"
   ]
  },
  {
   "cell_type": "code",
   "execution_count": 80,
   "metadata": {},
   "outputs": [
    {
     "data": {
      "text/plain": [
       "<function matplotlib.pyplot.plot(*args, scalex=True, scaley=True, data=None, **kwargs)>"
      ]
     },
     "execution_count": 80,
     "metadata": {},
     "output_type": "execute_result"
    },
    {
     "data": {
      "image/png": "[encoded data removed]",
      "text/plain": [
       "<Figure size 432x288 with 1 Axes>"
      ]
     },
     "metadata": {
      "needs_background": "light"
     },
     "output_type": "display_data"
    }
   ],
   "source": [
    "plt.scatter(x_train,y_train,color='red')\n",
    "plt.plot(x_test,y_predict)\n",
    "plt.xlabel(\"REVIEW POINTS\")\n",
    "plt.ylabel(\"NUMBER OF POINTS\")\n",
    "plt.title(\"SENTIMENTAL DECISION TABLE BY LINEAR REGRESSION\")\n",
    "plt.plot"
   ]
  },
  {
   "cell_type": "markdown",
   "metadata": {},
   "source": [
    "### Also I will check by Polyregression as below"
   ]
  },
  {
   "cell_type": "code",
   "execution_count": 81,
   "metadata": {},
   "outputs": [
    {
     "data": {
      "text/plain": [
       "PolynomialFeatures(degree=4, include_bias=True, interaction_only=False,\n",
       "                   order='C')"
      ]
     },
     "execution_count": 81,
     "metadata": {},
     "output_type": "execute_result"
    }
   ],
   "source": [
    "poly = PolynomialFeatures(degree = 4)\n",
    "X_poly = poly.fit_transform(x_train)\n",
    "poly.fit(X_poly,y_train)"
   ]
  },
  {
   "cell_type": "code",
   "execution_count": 82,
   "metadata": {},
   "outputs": [
    {
     "data": {
      "image/png": "[encoded data removed]",
      "text/plain": [
       "<Figure size 432x288 with 1 Axes>"
      ]
     },
     "metadata": {
      "needs_background": "light"
     },
     "output_type": "display_data"
    }
   ],
   "source": [
    "%matplotlib inline\n",
    "plt.scatter(x_train,y_train,color='orange')\n",
    "plt.plot(x_train, poly.fit_transform(x_train))\n",
    "plt.xlabel(\"REVIEW POINTS\")\n",
    "plt.ylabel(\"NUMBER OF POINTS\")\n",
    "plt.title(\"SENTIMENTAL DECISION TABLE BY POLYNOMINAL REGRESSION\")\n",
    "plt.show()"
   ]
  },
  {
   "cell_type": "markdown",
   "metadata": {},
   "source": [
    "### range calcutaion to compare with linear regression and polynominal regression"
   ]
  },
  {
   "cell_type": "code",
   "execution_count": 83,
   "metadata": {},
   "outputs": [
    {
     "data": {
      "text/plain": [
       "34"
      ]
     },
     "execution_count": 83,
     "metadata": {},
     "output_type": "execute_result"
    }
   ],
   "source": [
    "range = 97 - 63\n",
    "range"
   ]
  },
  {
   "cell_type": "code",
   "execution_count": 84,
   "metadata": {},
   "outputs": [
    {
     "data": {
      "text/plain": [
       "11"
      ]
     },
     "execution_count": 84,
     "metadata": {},
     "output_type": "execute_result"
    }
   ],
   "source": [
    "round(range/3)"
   ]
  },
  {
   "cell_type": "markdown",
   "metadata": {},
   "source": [
    "### According comparing linear regression, polynominal regression and range calculation method, i write create_sentiment function below"
   ]
  },
  {
   "cell_type": "code",
   "execution_count": 85,
   "metadata": {},
   "outputs": [],
   "source": [
    "def create_sentiment(int):\n",
    "    if int >=63 and int<80:\n",
    "        return 0\n",
    "    if int>=80 and int<90:\n",
    "        return 1\n",
    "    if int>=90 and int<98:\n",
    "        return 2"
   ]
  },
  {
   "cell_type": "code",
   "execution_count": 86,
   "metadata": {},
   "outputs": [],
   "source": [
    "ranked_scotch['sentiment'] = ranked_scotch['review.point'].apply(create_sentiment)"
   ]
  },
  {
   "cell_type": "markdown",
   "metadata": {},
   "source": [
    "### in above line i add sectiment column to my dataframe according create_sentiment function.So each description according review point has own perseption of being positve, negative or natural.\n",
    "\n",
    "### below it is seen with new sentiment column"
   ]
  },
  {
   "cell_type": "code",
   "execution_count": 87,
   "metadata": {},
   "outputs": [
    {
     "data": {
      "text/html": [
       "<div>\n",
       "<style scoped>\n",
       "    .dataframe tbody tr th:only-of-type {\n",
       "        vertical-align: middle;\n",
       "    }\n",
       "\n",
       "    .dataframe tbody tr th {\n",
       "        vertical-align: top;\n",
       "    }\n",
       "\n",
       "    .dataframe thead th {\n",
       "        text-align: right;\n",
       "    }\n",
       "</style>\n",
       "<table border=\"1\" class=\"dataframe\">\n",
       "  <thead>\n",
       "    <tr style=\"text-align: right;\">\n",
       "      <th></th>\n",
       "      <th>description</th>\n",
       "      <th>review.point</th>\n",
       "      <th>sentiment</th>\n",
       "    </tr>\n",
       "  </thead>\n",
       "  <tbody>\n",
       "    <tr>\n",
       "      <th>2246</th>\n",
       "      <td>Fiery peat kiln smoke, tar, and ripe barley on...</td>\n",
       "      <td>63</td>\n",
       "      <td>0</td>\n",
       "    </tr>\n",
       "    <tr>\n",
       "      <th>2245</th>\n",
       "      <td>The sherry is very dominant and cloying, which...</td>\n",
       "      <td>70</td>\n",
       "      <td>0</td>\n",
       "    </tr>\n",
       "    <tr>\n",
       "      <th>2244</th>\n",
       "      <td>Earthy, fleshy notes with brooding grape notes...</td>\n",
       "      <td>70</td>\n",
       "      <td>0</td>\n",
       "    </tr>\n",
       "    <tr>\n",
       "      <th>2243</th>\n",
       "      <td>Aged in a sherry cask, which adds sweet notes ...</td>\n",
       "      <td>71</td>\n",
       "      <td>0</td>\n",
       "    </tr>\n",
       "    <tr>\n",
       "      <th>2242</th>\n",
       "      <td>Its best attributes are vanilla, toasted cocon...</td>\n",
       "      <td>72</td>\n",
       "      <td>0</td>\n",
       "    </tr>\n",
       "    <tr>\n",
       "      <th>...</th>\n",
       "      <td>...</td>\n",
       "      <td>...</td>\n",
       "      <td>...</td>\n",
       "    </tr>\n",
       "    <tr>\n",
       "      <th>12</th>\n",
       "      <td>A remarkable beauty from the Angus town of Mon...</td>\n",
       "      <td>96</td>\n",
       "      <td>2</td>\n",
       "    </tr>\n",
       "    <tr>\n",
       "      <th>7</th>\n",
       "      <td>Definitely showing its age, but not in a bad w...</td>\n",
       "      <td>96</td>\n",
       "      <td>2</td>\n",
       "    </tr>\n",
       "    <tr>\n",
       "      <th>2</th>\n",
       "      <td>There have been some legendary Bowmores from t...</td>\n",
       "      <td>97</td>\n",
       "      <td>2</td>\n",
       "    </tr>\n",
       "    <tr>\n",
       "      <th>1</th>\n",
       "      <td>What impresses me most is how this whisky evol...</td>\n",
       "      <td>97</td>\n",
       "      <td>2</td>\n",
       "    </tr>\n",
       "    <tr>\n",
       "      <th>0</th>\n",
       "      <td>Magnificently powerful and intense. Caramels, ...</td>\n",
       "      <td>97</td>\n",
       "      <td>2</td>\n",
       "    </tr>\n",
       "  </tbody>\n",
       "</table>\n",
       "<p>2247 rows × 3 columns</p>\n",
       "</div>"
      ],
      "text/plain": [
       "                                            description  review.point  \\\n",
       "2246  Fiery peat kiln smoke, tar, and ripe barley on...            63   \n",
       "2245  The sherry is very dominant and cloying, which...            70   \n",
       "2244  Earthy, fleshy notes with brooding grape notes...            70   \n",
       "2243  Aged in a sherry cask, which adds sweet notes ...            71   \n",
       "2242  Its best attributes are vanilla, toasted cocon...            72   \n",
       "...                                                 ...           ...   \n",
       "12    A remarkable beauty from the Angus town of Mon...            96   \n",
       "7     Definitely showing its age, but not in a bad w...            96   \n",
       "2     There have been some legendary Bowmores from t...            97   \n",
       "1     What impresses me most is how this whisky evol...            97   \n",
       "0     Magnificently powerful and intense. Caramels, ...            97   \n",
       "\n",
       "      sentiment  \n",
       "2246          0  \n",
       "2245          0  \n",
       "2244          0  \n",
       "2243          0  \n",
       "2242          0  \n",
       "...         ...  \n",
       "12            2  \n",
       "7             2  \n",
       "2             2  \n",
       "1             2  \n",
       "0             2  \n",
       "\n",
       "[2247 rows x 3 columns]"
      ]
     },
     "execution_count": 87,
     "metadata": {},
     "output_type": "execute_result"
    }
   ],
   "source": [
    "ranked_scotch"
   ]
  },
  {
   "cell_type": "markdown",
   "metadata": {},
   "source": [
    "### when I check description i see too many comas in description so I decide to clean comas with below function"
   ]
  },
  {
   "cell_type": "code",
   "execution_count": 88,
   "metadata": {},
   "outputs": [],
   "source": [
    "def clean_comas(str):\n",
    "    return str.replace(',', ';')"
   ]
  },
  {
   "cell_type": "code",
   "execution_count": 89,
   "metadata": {},
   "outputs": [],
   "source": [
    "ranked_scotch['description'] = ranked_scotch['description'].apply(clean_comas)"
   ]
  },
  {
   "cell_type": "code",
   "execution_count": 90,
   "metadata": {},
   "outputs": [
    {
     "data": {
      "text/html": [
       "<div>\n",
       "<style scoped>\n",
       "    .dataframe tbody tr th:only-of-type {\n",
       "        vertical-align: middle;\n",
       "    }\n",
       "\n",
       "    .dataframe tbody tr th {\n",
       "        vertical-align: top;\n",
       "    }\n",
       "\n",
       "    .dataframe thead th {\n",
       "        text-align: right;\n",
       "    }\n",
       "</style>\n",
       "<table border=\"1\" class=\"dataframe\">\n",
       "  <thead>\n",
       "    <tr style=\"text-align: right;\">\n",
       "      <th></th>\n",
       "      <th>description</th>\n",
       "      <th>review.point</th>\n",
       "      <th>sentiment</th>\n",
       "    </tr>\n",
       "  </thead>\n",
       "  <tbody>\n",
       "    <tr>\n",
       "      <th>2246</th>\n",
       "      <td>Fiery peat kiln smoke; tar; and ripe barley on...</td>\n",
       "      <td>63</td>\n",
       "      <td>0</td>\n",
       "    </tr>\n",
       "    <tr>\n",
       "      <th>2245</th>\n",
       "      <td>The sherry is very dominant and cloying; which...</td>\n",
       "      <td>70</td>\n",
       "      <td>0</td>\n",
       "    </tr>\n",
       "    <tr>\n",
       "      <th>2244</th>\n",
       "      <td>Earthy; fleshy notes with brooding grape notes...</td>\n",
       "      <td>70</td>\n",
       "      <td>0</td>\n",
       "    </tr>\n",
       "    <tr>\n",
       "      <th>2243</th>\n",
       "      <td>Aged in a sherry cask; which adds sweet notes ...</td>\n",
       "      <td>71</td>\n",
       "      <td>0</td>\n",
       "    </tr>\n",
       "    <tr>\n",
       "      <th>2242</th>\n",
       "      <td>Its best attributes are vanilla; toasted cocon...</td>\n",
       "      <td>72</td>\n",
       "      <td>0</td>\n",
       "    </tr>\n",
       "    <tr>\n",
       "      <th>...</th>\n",
       "      <td>...</td>\n",
       "      <td>...</td>\n",
       "      <td>...</td>\n",
       "    </tr>\n",
       "    <tr>\n",
       "      <th>12</th>\n",
       "      <td>A remarkable beauty from the Angus town of Mon...</td>\n",
       "      <td>96</td>\n",
       "      <td>2</td>\n",
       "    </tr>\n",
       "    <tr>\n",
       "      <th>7</th>\n",
       "      <td>Definitely showing its age; but not in a bad w...</td>\n",
       "      <td>96</td>\n",
       "      <td>2</td>\n",
       "    </tr>\n",
       "    <tr>\n",
       "      <th>2</th>\n",
       "      <td>There have been some legendary Bowmores from t...</td>\n",
       "      <td>97</td>\n",
       "      <td>2</td>\n",
       "    </tr>\n",
       "    <tr>\n",
       "      <th>1</th>\n",
       "      <td>What impresses me most is how this whisky evol...</td>\n",
       "      <td>97</td>\n",
       "      <td>2</td>\n",
       "    </tr>\n",
       "    <tr>\n",
       "      <th>0</th>\n",
       "      <td>Magnificently powerful and intense. Caramels; ...</td>\n",
       "      <td>97</td>\n",
       "      <td>2</td>\n",
       "    </tr>\n",
       "  </tbody>\n",
       "</table>\n",
       "<p>2247 rows × 3 columns</p>\n",
       "</div>"
      ],
      "text/plain": [
       "                                            description  review.point  \\\n",
       "2246  Fiery peat kiln smoke; tar; and ripe barley on...            63   \n",
       "2245  The sherry is very dominant and cloying; which...            70   \n",
       "2244  Earthy; fleshy notes with brooding grape notes...            70   \n",
       "2243  Aged in a sherry cask; which adds sweet notes ...            71   \n",
       "2242  Its best attributes are vanilla; toasted cocon...            72   \n",
       "...                                                 ...           ...   \n",
       "12    A remarkable beauty from the Angus town of Mon...            96   \n",
       "7     Definitely showing its age; but not in a bad w...            96   \n",
       "2     There have been some legendary Bowmores from t...            97   \n",
       "1     What impresses me most is how this whisky evol...            97   \n",
       "0     Magnificently powerful and intense. Caramels; ...            97   \n",
       "\n",
       "      sentiment  \n",
       "2246          0  \n",
       "2245          0  \n",
       "2244          0  \n",
       "2243          0  \n",
       "2242          0  \n",
       "...         ...  \n",
       "12            2  \n",
       "7             2  \n",
       "2             2  \n",
       "1             2  \n",
       "0             2  \n",
       "\n",
       "[2247 rows x 3 columns]"
      ]
     },
     "execution_count": 90,
     "metadata": {},
     "output_type": "execute_result"
    }
   ],
   "source": [
    "ranked_scotch"
   ]
  },
  {
   "cell_type": "markdown",
   "metadata": {},
   "source": [
    "### below line make a new ready csv file to be workable for machine learning"
   ]
  },
  {
   "cell_type": "code",
   "execution_count": 91,
   "metadata": {},
   "outputs": [],
   "source": [
    "ranked_scotch.to_csv('ranked_scotch.csv')"
   ]
  },
  {
   "cell_type": "code",
   "execution_count": 92,
   "metadata": {},
   "outputs": [
    {
     "data": {
      "text/html": [
       "<div>\n",
       "<style scoped>\n",
       "    .dataframe tbody tr th:only-of-type {\n",
       "        vertical-align: middle;\n",
       "    }\n",
       "\n",
       "    .dataframe tbody tr th {\n",
       "        vertical-align: top;\n",
       "    }\n",
       "\n",
       "    .dataframe thead th {\n",
       "        text-align: right;\n",
       "    }\n",
       "</style>\n",
       "<table border=\"1\" class=\"dataframe\">\n",
       "  <thead>\n",
       "    <tr style=\"text-align: right;\">\n",
       "      <th></th>\n",
       "      <th>description</th>\n",
       "      <th>review.point</th>\n",
       "      <th>sentiment</th>\n",
       "    </tr>\n",
       "  </thead>\n",
       "  <tbody>\n",
       "    <tr>\n",
       "      <th>2246</th>\n",
       "      <td>Fiery peat kiln smoke; tar; and ripe barley on...</td>\n",
       "      <td>63</td>\n",
       "      <td>0</td>\n",
       "    </tr>\n",
       "    <tr>\n",
       "      <th>2245</th>\n",
       "      <td>The sherry is very dominant and cloying; which...</td>\n",
       "      <td>70</td>\n",
       "      <td>0</td>\n",
       "    </tr>\n",
       "    <tr>\n",
       "      <th>2244</th>\n",
       "      <td>Earthy; fleshy notes with brooding grape notes...</td>\n",
       "      <td>70</td>\n",
       "      <td>0</td>\n",
       "    </tr>\n",
       "    <tr>\n",
       "      <th>2243</th>\n",
       "      <td>Aged in a sherry cask; which adds sweet notes ...</td>\n",
       "      <td>71</td>\n",
       "      <td>0</td>\n",
       "    </tr>\n",
       "    <tr>\n",
       "      <th>2242</th>\n",
       "      <td>Its best attributes are vanilla; toasted cocon...</td>\n",
       "      <td>72</td>\n",
       "      <td>0</td>\n",
       "    </tr>\n",
       "    <tr>\n",
       "      <th>...</th>\n",
       "      <td>...</td>\n",
       "      <td>...</td>\n",
       "      <td>...</td>\n",
       "    </tr>\n",
       "    <tr>\n",
       "      <th>12</th>\n",
       "      <td>A remarkable beauty from the Angus town of Mon...</td>\n",
       "      <td>96</td>\n",
       "      <td>2</td>\n",
       "    </tr>\n",
       "    <tr>\n",
       "      <th>7</th>\n",
       "      <td>Definitely showing its age; but not in a bad w...</td>\n",
       "      <td>96</td>\n",
       "      <td>2</td>\n",
       "    </tr>\n",
       "    <tr>\n",
       "      <th>2</th>\n",
       "      <td>There have been some legendary Bowmores from t...</td>\n",
       "      <td>97</td>\n",
       "      <td>2</td>\n",
       "    </tr>\n",
       "    <tr>\n",
       "      <th>1</th>\n",
       "      <td>What impresses me most is how this whisky evol...</td>\n",
       "      <td>97</td>\n",
       "      <td>2</td>\n",
       "    </tr>\n",
       "    <tr>\n",
       "      <th>0</th>\n",
       "      <td>Magnificently powerful and intense. Caramels; ...</td>\n",
       "      <td>97</td>\n",
       "      <td>2</td>\n",
       "    </tr>\n",
       "  </tbody>\n",
       "</table>\n",
       "<p>2247 rows × 3 columns</p>\n",
       "</div>"
      ],
      "text/plain": [
       "                                            description  review.point  \\\n",
       "2246  Fiery peat kiln smoke; tar; and ripe barley on...            63   \n",
       "2245  The sherry is very dominant and cloying; which...            70   \n",
       "2244  Earthy; fleshy notes with brooding grape notes...            70   \n",
       "2243  Aged in a sherry cask; which adds sweet notes ...            71   \n",
       "2242  Its best attributes are vanilla; toasted cocon...            72   \n",
       "...                                                 ...           ...   \n",
       "12    A remarkable beauty from the Angus town of Mon...            96   \n",
       "7     Definitely showing its age; but not in a bad w...            96   \n",
       "2     There have been some legendary Bowmores from t...            97   \n",
       "1     What impresses me most is how this whisky evol...            97   \n",
       "0     Magnificently powerful and intense. Caramels; ...            97   \n",
       "\n",
       "      sentiment  \n",
       "2246          0  \n",
       "2245          0  \n",
       "2244          0  \n",
       "2243          0  \n",
       "2242          0  \n",
       "...         ...  \n",
       "12            2  \n",
       "7             2  \n",
       "2             2  \n",
       "1             2  \n",
       "0             2  \n",
       "\n",
       "[2247 rows x 3 columns]"
      ]
     },
     "execution_count": 92,
     "metadata": {},
     "output_type": "execute_result"
    }
   ],
   "source": [
    "ranked_scotch"
   ]
  },
  {
   "cell_type": "code",
   "execution_count": 93,
   "metadata": {},
   "outputs": [],
   "source": [
    "scotch_df = pd.read_csv('ranked_scotch.csv')"
   ]
  },
  {
   "cell_type": "code",
   "execution_count": 94,
   "metadata": {},
   "outputs": [
    {
     "data": {
      "text/html": [
       "<div>\n",
       "<style scoped>\n",
       "    .dataframe tbody tr th:only-of-type {\n",
       "        vertical-align: middle;\n",
       "    }\n",
       "\n",
       "    .dataframe tbody tr th {\n",
       "        vertical-align: top;\n",
       "    }\n",
       "\n",
       "    .dataframe thead th {\n",
       "        text-align: right;\n",
       "    }\n",
       "</style>\n",
       "<table border=\"1\" class=\"dataframe\">\n",
       "  <thead>\n",
       "    <tr style=\"text-align: right;\">\n",
       "      <th></th>\n",
       "      <th>Unnamed: 0</th>\n",
       "      <th>description</th>\n",
       "      <th>review.point</th>\n",
       "      <th>sentiment</th>\n",
       "    </tr>\n",
       "  </thead>\n",
       "  <tbody>\n",
       "    <tr>\n",
       "      <th>0</th>\n",
       "      <td>2246</td>\n",
       "      <td>Fiery peat kiln smoke; tar; and ripe barley on...</td>\n",
       "      <td>63</td>\n",
       "      <td>0</td>\n",
       "    </tr>\n",
       "    <tr>\n",
       "      <th>1</th>\n",
       "      <td>2245</td>\n",
       "      <td>The sherry is very dominant and cloying; which...</td>\n",
       "      <td>70</td>\n",
       "      <td>0</td>\n",
       "    </tr>\n",
       "    <tr>\n",
       "      <th>2</th>\n",
       "      <td>2244</td>\n",
       "      <td>Earthy; fleshy notes with brooding grape notes...</td>\n",
       "      <td>70</td>\n",
       "      <td>0</td>\n",
       "    </tr>\n",
       "    <tr>\n",
       "      <th>3</th>\n",
       "      <td>2243</td>\n",
       "      <td>Aged in a sherry cask; which adds sweet notes ...</td>\n",
       "      <td>71</td>\n",
       "      <td>0</td>\n",
       "    </tr>\n",
       "    <tr>\n",
       "      <th>4</th>\n",
       "      <td>2242</td>\n",
       "      <td>Its best attributes are vanilla; toasted cocon...</td>\n",
       "      <td>72</td>\n",
       "      <td>0</td>\n",
       "    </tr>\n",
       "    <tr>\n",
       "      <th>...</th>\n",
       "      <td>...</td>\n",
       "      <td>...</td>\n",
       "      <td>...</td>\n",
       "      <td>...</td>\n",
       "    </tr>\n",
       "    <tr>\n",
       "      <th>2242</th>\n",
       "      <td>12</td>\n",
       "      <td>A remarkable beauty from the Angus town of Mon...</td>\n",
       "      <td>96</td>\n",
       "      <td>2</td>\n",
       "    </tr>\n",
       "    <tr>\n",
       "      <th>2243</th>\n",
       "      <td>7</td>\n",
       "      <td>Definitely showing its age; but not in a bad w...</td>\n",
       "      <td>96</td>\n",
       "      <td>2</td>\n",
       "    </tr>\n",
       "    <tr>\n",
       "      <th>2244</th>\n",
       "      <td>2</td>\n",
       "      <td>There have been some legendary Bowmores from t...</td>\n",
       "      <td>97</td>\n",
       "      <td>2</td>\n",
       "    </tr>\n",
       "    <tr>\n",
       "      <th>2245</th>\n",
       "      <td>1</td>\n",
       "      <td>What impresses me most is how this whisky evol...</td>\n",
       "      <td>97</td>\n",
       "      <td>2</td>\n",
       "    </tr>\n",
       "    <tr>\n",
       "      <th>2246</th>\n",
       "      <td>0</td>\n",
       "      <td>Magnificently powerful and intense. Caramels; ...</td>\n",
       "      <td>97</td>\n",
       "      <td>2</td>\n",
       "    </tr>\n",
       "  </tbody>\n",
       "</table>\n",
       "<p>2247 rows × 4 columns</p>\n",
       "</div>"
      ],
      "text/plain": [
       "      Unnamed: 0                                        description  \\\n",
       "0           2246  Fiery peat kiln smoke; tar; and ripe barley on...   \n",
       "1           2245  The sherry is very dominant and cloying; which...   \n",
       "2           2244  Earthy; fleshy notes with brooding grape notes...   \n",
       "3           2243  Aged in a sherry cask; which adds sweet notes ...   \n",
       "4           2242  Its best attributes are vanilla; toasted cocon...   \n",
       "...          ...                                                ...   \n",
       "2242          12  A remarkable beauty from the Angus town of Mon...   \n",
       "2243           7  Definitely showing its age; but not in a bad w...   \n",
       "2244           2  There have been some legendary Bowmores from t...   \n",
       "2245           1  What impresses me most is how this whisky evol...   \n",
       "2246           0  Magnificently powerful and intense. Caramels; ...   \n",
       "\n",
       "      review.point  sentiment  \n",
       "0               63          0  \n",
       "1               70          0  \n",
       "2               70          0  \n",
       "3               71          0  \n",
       "4               72          0  \n",
       "...            ...        ...  \n",
       "2242            96          2  \n",
       "2243            96          2  \n",
       "2244            97          2  \n",
       "2245            97          2  \n",
       "2246            97          2  \n",
       "\n",
       "[2247 rows x 4 columns]"
      ]
     },
     "execution_count": 94,
     "metadata": {},
     "output_type": "execute_result"
    }
   ],
   "source": [
    "scotch_df"
   ]
  },
  {
   "cell_type": "code",
   "execution_count": 95,
   "metadata": {},
   "outputs": [
    {
     "data": {
      "text/html": [
       "<div>\n",
       "<style scoped>\n",
       "    .dataframe tbody tr th:only-of-type {\n",
       "        vertical-align: middle;\n",
       "    }\n",
       "\n",
       "    .dataframe tbody tr th {\n",
       "        vertical-align: top;\n",
       "    }\n",
       "\n",
       "    .dataframe thead th {\n",
       "        text-align: right;\n",
       "    }\n",
       "</style>\n",
       "<table border=\"1\" class=\"dataframe\">\n",
       "  <thead>\n",
       "    <tr style=\"text-align: right;\">\n",
       "      <th></th>\n",
       "      <th>description</th>\n",
       "      <th>sentiment</th>\n",
       "    </tr>\n",
       "  </thead>\n",
       "  <tbody>\n",
       "    <tr>\n",
       "      <th>1497</th>\n",
       "      <td>Funny to think how recently Caol Ila was an Is...</td>\n",
       "      <td>1</td>\n",
       "    </tr>\n",
       "    <tr>\n",
       "      <th>1447</th>\n",
       "      <td>White wine color. Sweet aromas of confectioner...</td>\n",
       "      <td>1</td>\n",
       "    </tr>\n",
       "    <tr>\n",
       "      <th>359</th>\n",
       "      <td>Good; straightforward; moderately sherried Bal...</td>\n",
       "      <td>1</td>\n",
       "    </tr>\n",
       "    <tr>\n",
       "      <th>1121</th>\n",
       "      <td>The nose is muted; with gentle orchard fruits;...</td>\n",
       "      <td>1</td>\n",
       "    </tr>\n",
       "    <tr>\n",
       "      <th>325</th>\n",
       "      <td>Clean; fragrant; and quite fruity; with notes ...</td>\n",
       "      <td>1</td>\n",
       "    </tr>\n",
       "  </tbody>\n",
       "</table>\n",
       "</div>"
      ],
      "text/plain": [
       "                                            description  sentiment\n",
       "1497  Funny to think how recently Caol Ila was an Is...          1\n",
       "1447  White wine color. Sweet aromas of confectioner...          1\n",
       "359   Good; straightforward; moderately sherried Bal...          1\n",
       "1121  The nose is muted; with gentle orchard fruits;...          1\n",
       "325   Clean; fragrant; and quite fruity; with notes ...          1"
      ]
     },
     "execution_count": 95,
     "metadata": {},
     "output_type": "execute_result"
    }
   ],
   "source": [
    "scotch_df.columns=['Unnamed: 0', 'description' , 'review.point' , 'sentiment']\n",
    "scotch_training_df = scotch_df[['description', 'sentiment']].dropna()\n",
    "scotch_training_df.sample(5)"
   ]
  },
  {
   "cell_type": "code",
   "execution_count": 96,
   "metadata": {},
   "outputs": [
    {
     "name": "stdout",
     "output_type": "stream",
     "text": [
      "0       0\n",
      "1       0\n",
      "2       0\n",
      "3       0\n",
      "4       0\n",
      "       ..\n",
      "2242    2\n",
      "2243    2\n",
      "2244    2\n",
      "2245    2\n",
      "2246    2\n",
      "Name: sentiment, Length: 2247, dtype: int64\n"
     ]
    }
   ],
   "source": [
    "scotch_y = scotch_training_df.sentiment\n",
    "print(scotch_y)"
   ]
  },
  {
   "cell_type": "code",
   "execution_count": 97,
   "metadata": {},
   "outputs": [
    {
     "name": "stdout",
     "output_type": "stream",
     "text": [
      "0       Fiery peat kiln smoke; tar; and ripe barley on...\n",
      "1       The sherry is very dominant and cloying; which...\n",
      "2       Earthy; fleshy notes with brooding grape notes...\n",
      "3       Aged in a sherry cask; which adds sweet notes ...\n",
      "4       Its best attributes are vanilla; toasted cocon...\n",
      "                              ...                        \n",
      "2242    A remarkable beauty from the Angus town of Mon...\n",
      "2243    Definitely showing its age; but not in a bad w...\n",
      "2244    There have been some legendary Bowmores from t...\n",
      "2245    What impresses me most is how this whisky evol...\n",
      "2246    Magnificently powerful and intense. Caramels; ...\n",
      "Name: description, Length: 2247, dtype: object\n"
     ]
    }
   ],
   "source": [
    "scotch_x = scotch_training_df.description\n",
    "print(scotch_x)"
   ]
  },
  {
   "cell_type": "markdown",
   "metadata": {},
   "source": [
    "### above I define x and y axis of my analysis x axis is description and y axis is sentiment"
   ]
  },
  {
   "cell_type": "code",
   "execution_count": 98,
   "metadata": {},
   "outputs": [
    {
     "data": {
      "text/html": [
       "<div>\n",
       "<style scoped>\n",
       "    .dataframe tbody tr th:only-of-type {\n",
       "        vertical-align: middle;\n",
       "    }\n",
       "\n",
       "    .dataframe tbody tr th {\n",
       "        vertical-align: top;\n",
       "    }\n",
       "\n",
       "    .dataframe thead th {\n",
       "        text-align: right;\n",
       "    }\n",
       "</style>\n",
       "<table border=\"1\" class=\"dataframe\">\n",
       "  <thead>\n",
       "    <tr style=\"text-align: right;\">\n",
       "      <th></th>\n",
       "      <th>sentiment</th>\n",
       "    </tr>\n",
       "  </thead>\n",
       "  <tbody>\n",
       "    <tr>\n",
       "      <th>count</th>\n",
       "      <td>2247.000000</td>\n",
       "    </tr>\n",
       "    <tr>\n",
       "      <th>mean</th>\n",
       "      <td>1.218959</td>\n",
       "    </tr>\n",
       "    <tr>\n",
       "      <th>std</th>\n",
       "      <td>0.491365</td>\n",
       "    </tr>\n",
       "    <tr>\n",
       "      <th>min</th>\n",
       "      <td>0.000000</td>\n",
       "    </tr>\n",
       "    <tr>\n",
       "      <th>25%</th>\n",
       "      <td>1.000000</td>\n",
       "    </tr>\n",
       "    <tr>\n",
       "      <th>50%</th>\n",
       "      <td>1.000000</td>\n",
       "    </tr>\n",
       "    <tr>\n",
       "      <th>75%</th>\n",
       "      <td>2.000000</td>\n",
       "    </tr>\n",
       "    <tr>\n",
       "      <th>max</th>\n",
       "      <td>2.000000</td>\n",
       "    </tr>\n",
       "  </tbody>\n",
       "</table>\n",
       "</div>"
      ],
      "text/plain": [
       "         sentiment\n",
       "count  2247.000000\n",
       "mean      1.218959\n",
       "std       0.491365\n",
       "min       0.000000\n",
       "25%       1.000000\n",
       "50%       1.000000\n",
       "75%       2.000000\n",
       "max       2.000000"
      ]
     },
     "execution_count": 98,
     "metadata": {},
     "output_type": "execute_result"
    }
   ],
   "source": [
    "scotch_training_df.describe()"
   ]
  },
  {
   "cell_type": "code",
   "execution_count": 99,
   "metadata": {},
   "outputs": [],
   "source": [
    "tokenizer = Tokenizer()\n",
    "tokenizer.fit_on_texts(scotch_x)"
   ]
  },
  {
   "cell_type": "code",
   "execution_count": 100,
   "metadata": {},
   "outputs": [],
   "source": [
    "scotch_x = tokenizer.texts_to_sequences(scotch_x)\n"
   ]
  },
  {
   "cell_type": "markdown",
   "metadata": {},
   "source": [
    "### Above I create array that texts of description tokenized and\n",
    "### Below I create the Matrix of it"
   ]
  },
  {
   "cell_type": "code",
   "execution_count": 101,
   "metadata": {},
   "outputs": [
    {
     "data": {
      "text/plain": [
       "array([[0., 1., 1., ..., 0., 0., 0.],\n",
       "       [0., 1., 1., ..., 0., 0., 0.],\n",
       "       [0., 1., 1., ..., 0., 0., 0.],\n",
       "       ...,\n",
       "       [0., 1., 1., ..., 0., 0., 0.],\n",
       "       [0., 1., 1., ..., 0., 0., 0.],\n",
       "       [0., 1., 0., ..., 1., 1., 1.]])"
      ]
     },
     "execution_count": 101,
     "metadata": {},
     "output_type": "execute_result"
    }
   ],
   "source": [
    "scotch_x = tokenizer.sequences_to_matrix(scotch_x)\n",
    "scotch_x"
   ]
  },
  {
   "cell_type": "code",
   "execution_count": 102,
   "metadata": {},
   "outputs": [
    {
     "name": "stdout",
     "output_type": "stream",
     "text": [
      "<class 'numpy.ndarray'>\n"
     ]
    }
   ],
   "source": [
    "print(type(scotch_x))"
   ]
  },
  {
   "cell_type": "code",
   "execution_count": 103,
   "metadata": {},
   "outputs": [],
   "source": [
    "from tensorflow.keras.models import Sequential\n",
    "from tensorflow.keras.layers import Dense, Dropout, Activation\n",
    "import json"
   ]
  },
  {
   "cell_type": "code",
   "execution_count": 104,
   "metadata": {},
   "outputs": [
    {
     "name": "stdout",
     "output_type": "stream",
     "text": [
      "Num GPUs Available:  0\n"
     ]
    }
   ],
   "source": [
    "print (\"Num GPUs Available: \", len(tf.config.experimental.list_physical_devices('GPU')))"
   ]
  },
  {
   "cell_type": "code",
   "execution_count": 105,
   "metadata": {},
   "outputs": [],
   "source": [
    "scotch_y = keras.utils.to_categorical(scotch_y,3)"
   ]
  },
  {
   "cell_type": "code",
   "execution_count": 106,
   "metadata": {},
   "outputs": [
    {
     "data": {
      "text/plain": [
       "array([[1., 0., 0.],\n",
       "       [1., 0., 0.],\n",
       "       [1., 0., 0.],\n",
       "       ...,\n",
       "       [0., 0., 1.],\n",
       "       [0., 0., 1.],\n",
       "       [0., 0., 1.]], dtype=float32)"
      ]
     },
     "execution_count": 106,
     "metadata": {},
     "output_type": "execute_result"
    }
   ],
   "source": [
    "scotch_y"
   ]
  },
  {
   "cell_type": "markdown",
   "metadata": {},
   "source": [
    "### Above I create 3 columns matrix array for sentiment"
   ]
  },
  {
   "cell_type": "markdown",
   "metadata": {},
   "source": [
    "### Below I create model with layers with Dense and Dropout in order to use layers to make epoches"
   ]
  },
  {
   "cell_type": "code",
   "execution_count": 234,
   "metadata": {},
   "outputs": [],
   "source": [
    "model = Sequential()"
   ]
  },
  {
   "cell_type": "markdown",
   "metadata": {},
   "source": [
    "### layer 1 act sigmoid drop 1 at 5%"
   ]
  },
  {
   "cell_type": "code",
   "execution_count": 235,
   "metadata": {},
   "outputs": [],
   "source": [
    "model.add(Dense(666, activation='sigmoid'))\n",
    "model.add(Dropout(0.05))"
   ]
  },
  {
   "cell_type": "markdown",
   "metadata": {},
   "source": [
    "### layer 2  act Rectifified linear drop 1 at 10%"
   ]
  },
  {
   "cell_type": "code",
   "execution_count": 236,
   "metadata": {},
   "outputs": [],
   "source": [
    "model.add(Dense(555, activation = 'relu'))\n",
    "model.add(Dropout(0.1))"
   ]
  },
  {
   "cell_type": "markdown",
   "metadata": {},
   "source": [
    "### layer 3  act linear drop 1 at 15%"
   ]
  },
  {
   "cell_type": "code",
   "execution_count": 237,
   "metadata": {},
   "outputs": [],
   "source": [
    "model.add(Dense(333, activation = 'linear'))\n",
    "model.add(Dropout(0.15))"
   ]
  },
  {
   "cell_type": "markdown",
   "metadata": {},
   "source": [
    "### layer 4  act exponential linear drop 1 at 20%"
   ]
  },
  {
   "cell_type": "code",
   "execution_count": 238,
   "metadata": {},
   "outputs": [],
   "source": [
    "# model.add(Dense(133, activation = 'elu'))\n",
    "# model.add(Dropout(0.4))"
   ]
  },
  {
   "cell_type": "markdown",
   "metadata": {},
   "source": [
    "### layer 5  act hyperpolic tangent drop 1 at 25%"
   ]
  },
  {
   "cell_type": "code",
   "execution_count": 239,
   "metadata": {},
   "outputs": [],
   "source": [
    "# model.add(Dense(55, activation = 'tanh'))\n",
    "# model.add(Dropout(0.5))"
   ]
  },
  {
   "cell_type": "markdown",
   "metadata": {},
   "source": [
    "### layer 6 act softsign no drop"
   ]
  },
  {
   "cell_type": "code",
   "execution_count": 240,
   "metadata": {},
   "outputs": [],
   "source": [
    "model.add(Dense(33, activation = 'softsign'))"
   ]
  },
  {
   "cell_type": "markdown",
   "metadata": {},
   "source": [
    "### layer 7 act softmax no drop"
   ]
  },
  {
   "cell_type": "code",
   "execution_count": 241,
   "metadata": {},
   "outputs": [],
   "source": [
    "model.add(Dense(3, activation = 'softmax'))"
   ]
  },
  {
   "cell_type": "markdown",
   "metadata": {},
   "source": [
    "### below I compile the model"
   ]
  },
  {
   "cell_type": "code",
   "execution_count": 242,
   "metadata": {},
   "outputs": [],
   "source": [
    "model.compile(loss='categorical_crossentropy', optimizer='adam', metrics=['accuracy'])"
   ]
  },
  {
   "cell_type": "code",
   "execution_count": 243,
   "metadata": {},
   "outputs": [
    {
     "name": "stdout",
     "output_type": "stream",
     "text": [
      "Train on 1797 samples, validate on 450 samples\n",
      "Epoch 1/7\n",
      "1797/1797 [==============================] - 2s 1ms/sample - loss: 0.4546 - accuracy: 0.8815 - val_loss: 2.7363 - val_accuracy: 0.0000e+00\n",
      "Epoch 2/7\n",
      "1797/1797 [==============================] - 2s 960us/sample - loss: 0.4313 - accuracy: 0.8887 - val_loss: 2.8419 - val_accuracy: 0.0000e+00\n",
      "Epoch 3/7\n",
      "1797/1797 [==============================] - 2s 969us/sample - loss: 0.4240 - accuracy: 0.8887 - val_loss: 2.7696 - val_accuracy: 0.0000e+00\n",
      "Epoch 4/7\n",
      "1797/1797 [==============================] - 2s 973us/sample - loss: 0.4235 - accuracy: 0.8887 - val_loss: 2.5965 - val_accuracy: 0.0000e+00\n",
      "Epoch 5/7\n",
      "1797/1797 [==============================] - 2s 972us/sample - loss: 0.4182 - accuracy: 0.8887 - val_loss: 2.2975 - val_accuracy: 0.0000e+00\n",
      "Epoch 6/7\n",
      "1797/1797 [==============================] - 2s 981us/sample - loss: 0.3624 - accuracy: 0.8943 - val_loss: 5.9601 - val_accuracy: 0.0000e+00\n",
      "Epoch 7/7\n",
      "1797/1797 [==============================] - 2s 985us/sample - loss: 0.1840 - accuracy: 0.9338 - val_loss: 5.4763 - val_accuracy: 0.0089\n"
     ]
    },
    {
     "data": {
      "text/plain": [
       "<tensorflow.python.keras.callbacks.History at 0x175f36390>"
      ]
     },
     "execution_count": 243,
     "metadata": {},
     "output_type": "execute_result"
    }
   ],
   "source": [
    "model.fit(\n",
    "    scotch_x, scotch_y,\n",
    "    batch_size=35,\n",
    "    epochs=7,\n",
    "    verbose=1,\n",
    "    validation_split=0.2)"
   ]
  },
  {
   "cell_type": "code",
   "execution_count": 244,
   "metadata": {},
   "outputs": [],
   "source": [
    "scotch_model = model.to_json()\n",
    "with open('scotch_model_11.json', 'w') as json_file:\n",
    "    json_file.write(scotch_model)\n",
    "model.save_weights('scotch_model_11.h5')"
   ]
  },
  {
   "cell_type": "code",
   "execution_count": 245,
   "metadata": {},
   "outputs": [],
   "source": [
    "scotch_dict_11 = tokenizer.word_index\n",
    "with open('scotch_dict_11.json', 'w') as d:\n",
    "    json.dump(scotch_dict_11, d)"
   ]
  },
  {
   "cell_type": "markdown",
   "metadata": {},
   "source": [
    "## OBSERVATION:\n",
    "#### I use 7 layer Sentimental and To increase range of Dense from layer one to layer seven did not affect accuracy, it lower down validation loss. Increasing epoch after 10 does not decrease the loss so eproc more than 10 is worthless. Batch size does not affect much however it should not be low as 5 or 10 because loss is increasing.All trials with 7 seven layers accuracy was around 88%  bigger range in Dense is helpful for validation loss. \n",
    "#### Then I cut out Rectified Linear, hyperpolic tangent and softsign and drop layers to 4, accuracy increased a lot at epoch 7 it was 99%, however validation loss was massive, validation accurcy was 1%. The accuracy was not trustable. \n",
    "#### I turn softsign layer back only,with 5 layers accury was 88% back again with acceptable validation lost.\n",
    "#### With 5 layers , now I take back hyperbolic tangent however I cut out exponential linear. This does not make any big difference.\n",
    "#### With 5 layers I cut out hyperbolic tangent again and I take back recltified lineer, it does not make any change. \n",
    "#### I keep 5 layers and previous condition now I drop dropout ratios half, first 5 epoch nothing is changed. 6th and 7th Epoch loss decreased dramaticly to 18% and accury increased 93% however validation loss is increased to 5s.\n",
    "### Keeping 5 layers Epoch 7 Drop out ratio from 10 percent to 50 percent increasing Gradually each layer is ideal for this sentiment model. It gives 88% accuracy 40% loss with validation loss at 2s."
   ]
  },
  {
   "cell_type": "code",
   "execution_count": null,
   "metadata": {},
   "outputs": [],
   "source": [
    "\n"
   ]
  }
 ],
 "metadata": {
  "kernelspec": {
   "display_name": "Python 3",
   "language": "python",
   "name": "python3"
  },
  "language_info": {
   "codemirror_mode": {
    "name": "ipython",
    "version": 3
   },
   "file_extension": ".py",
   "mimetype": "text/x-python",
   "name": "python",
   "nbconvert_exporter": "python",
   "pygments_lexer": "ipython3",
   "version": "3.7.5"
  }
 },
 "nbformat": 4,
 "nbformat_minor": 4
}
